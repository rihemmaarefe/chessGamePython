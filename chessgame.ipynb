{
  "nbformat": 4,
  "nbformat_minor": 0,
  "metadata": {
    "colab": {
      "provenance": [],
      "authorship_tag": "ABX9TyP20Pu8f7BIDAJAcr426YZC",
      "include_colab_link": true
    },
    "kernelspec": {
      "name": "python3",
      "display_name": "Python 3"
    },
    "language_info": {
      "name": "python"
    }
  },
  "cells": [
    {
      "cell_type": "markdown",
      "metadata": {
        "id": "view-in-github",
        "colab_type": "text"
      },
      "source": [
        "<a href=\"https://colab.research.google.com/github/rihemmaarefe/chessGamePython/blob/main/chessgame.ipynb\" target=\"_parent\"><img src=\"https://colab.research.google.com/assets/colab-badge.svg\" alt=\"Open In Colab\"/></a>"
      ]
    },
    {
      "cell_type": "code",
      "execution_count": null,
      "metadata": {
        "id": "cNfJmLt4U7L4"
      },
      "outputs": [],
      "source": [
        "class ChessGame:\n",
        "    def __init__(self):\n",
        "        self.board = [\n",
        "            [\"r\", \"n\", \"b\", \"q\", \"k\", \"b\", \"n\", \"r\"],\n",
        "            [\"p\", \"p\", \"p\", \"p\", \"p\", \"p\", \"p\", \"p\"],\n",
        "            [\" \", \".\", \" \", \".\", \" \", \".\", \" \", \".\"],\n",
        "            [\".\", \" \", \".\", \" \", \".\", \" \", \".\", \" \"],\n",
        "            [\" \", \".\", \" \", \".\", \" \", \".\", \" \", \".\"],\n",
        "            [\".\", \" \", \".\", \" \", \".\", \" \", \".\", \" \"],\n",
        "            [\"P\", \"P\", \"P\", \"P\", \"P\", \"P\", \"P\", \"P\"],\n",
        "            [\"R\", \"N\", \"B\", \"Q\", \"K\", \"B\", \"N\", \"R\"]\n",
        "        ]\n",
        "        self.current_player = \"white\"\n",
        "    \n",
        "    def play_game(self):\n",
        "        while True:\n",
        "            self.print_board()\n",
        "            print(f\"{self.current_player}'s turn\")\n",
        "            move = input(\"Enter move (e.g. 'e2 e4'): \")\n",
        "            if move == \"quit\":\n",
        "                break\n",
        "            if not self.is_valid_move(move):\n",
        "                print(\"Invalid move, try again\")\n",
        "                continue\n",
        "            self.make_move(move)\n",
        "            self.current_player = \"black\" if self.current_player == \"white\" else \"white\"\n",
        "    \n",
        "    def is_valid_move(self, move):\n",
        "        try:\n",
        "            start, end = move.split()\n",
        "            x1, y1 = self.parse_square(start)\n",
        "            x2, y2 = self.parse_square(end)\n",
        "            piece = self.board[x1][y1]\n",
        "            if piece == \" \" or piece == \".\":\n",
        "                return False\n",
        "            if (piece.islower() and self.current_player == \"white\") or (piece.isupper() and self.current_player == \"black\"):\n",
        "                return False\n",
        "            if piece.lower() == \"p\":\n",
        "                if y1 == y2 and self.board[x2][y2] == \" \":\n",
        "                    if piece.isupper():\n",
        "                        if x1 == 6:\n",
        "                            return x2 == 4 or x2 == 5\n",
        "                        else:\n",
        "                            return x2 == x1 - 1\n",
        "                    else:\n",
        "                        if x1 == 1:\n",
        "                            return x2 == 3 or x2 == 2\n",
        "                        else:\n",
        "                            return x2 == x1 + 1\n",
        "                elif abs(y2 - y1) == 1 and self.board[x2][y2].islower() != piece.islower():\n",
        "                    if piece.isupper() and x2 == x1 - 1:\n",
        "                        return True\n",
        "                    elif piece.islower() and x2 == x1 + 1:\n",
        "                        return True\n",
        "                return False\n",
        "            elif piece.lower() == \"r\":\n",
        "                if x1 != x2 and y1 != y2:\n",
        "                    return False\n",
        "                if x1 == x2:\n",
        "                    for y in range(min(y1, y2) + 1, max(y1, y2)):\n",
        "                        if self.board[x1][y] != \" \":\n",
        "                            return False\n",
        "                else:\n",
        "                    for x in range(min(x1, x2) + 1, max(x1, x2)):\n",
        "                        if self.board[x][y1] != \" \":\n",
        "                            return False\n",
        "                return True\n",
        "            elif piece.lower() == \"n\":\n",
        "                dx = abs(x2 - x1)\n",
        "                dy = abs(y2 - y1)\n",
        "                return dx * dy == 2 and dx + dy == 3 and self.board\n"
      ]
    }
  ]
}